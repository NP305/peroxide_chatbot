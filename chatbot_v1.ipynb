{
 "cells": [
  {
   "cell_type": "code",
   "execution_count": 114,
   "id": "62e8dd8d-849c-4856-9519-d0da4cd385ad",
   "metadata": {},
   "outputs": [
    {
     "name": "stderr",
     "output_type": "stream",
     "text": [
      "ERROR: Could not find a version that satisfies the requirement log_feedback (from versions: none)\n",
      "ERROR: No matching distribution found for log_feedback\n"
     ]
    }
   ],
   "source": [
    "# !pip install -U langchain-openai\n",
    "# !pip install python-dotenv\n",
    "# ! pip install -U langgraph\n",
    "! pip install log_feedback"
   ]
  },
  {
   "cell_type": "code",
   "execution_count": 77,
   "id": "03b75ff7-0bbb-4ea8-a0e5-34894601f0d0",
   "metadata": {},
   "outputs": [],
   "source": [
    "import os\n",
    "from langchain_community.document_loaders import PyPDFLoader\n",
    "from langchain.text_splitter import RecursiveCharacterTextSplitter\n",
    "from langchain_openai import OpenAIEmbeddings\n",
    "from langchain_community.vectorstores import Chroma"
   ]
  },
  {
   "cell_type": "markdown",
   "id": "dd368f5d-665b-4b1e-a04d-8b7378ea311b",
   "metadata": {},
   "source": [
    "## Step 1: Ingest PDFs into ChromaDB"
   ]
  },
  {
   "cell_type": "code",
   "execution_count": 78,
   "id": "582855ea-66e9-404f-9aa0-da43e76f0f05",
   "metadata": {},
   "outputs": [
    {
     "name": "stdout",
     "output_type": "stream",
     "text": [
      "Loading: H20 GAS PLASMA STERILIZERS USER MANUAL.pdf\n",
      "Loading: Hidrojen Peroksit DIS ERYIGIT KISA SUNUM.pdf\n",
      "Loading: HIDROJEN PEROKSIT DUSUK ISI STERILIZATORU.pdf\n",
      "Loading: HIDROJEN PEROKSIT RAKIPLER KIYASLAMA.pdf\n",
      "Loading: HP SISTEMI SUNUM ERYIGIT.pdf\n",
      "Loading: Hydrogen Peroxide Service Video.pdf\n",
      "Loading: TD.03.02.05 GP H2O2 Sterilizer and Cartridge User Manual.pdf\n",
      "Loaded 143 documents.\n",
      "Split into 492 chunks.\n",
      "ChromaDB vector store created and persisted.\n"
     ]
    }
   ],
   "source": [
    "from dotenv import load_dotenv\n",
    "load_dotenv()\n",
    "openai_api_key = os.environ[\"OPENAI_API_KEY\"]\n",
    "\n",
    "# Setup paths\n",
    "pdf_folder = \"pdf_docs\"\n",
    "chroma_db_dir = \"chroma_db\"\n",
    "\n",
    "# Load and process all PDFs\n",
    "all_docs = []\n",
    "for file in os.listdir(pdf_folder):\n",
    "    if file.endswith(\".pdf\"):\n",
    "        path = os.path.join(pdf_folder, file)\n",
    "        print(f\"Loading: {file}\")\n",
    "        loader = PyPDFLoader(path)\n",
    "        docs = loader.load()\n",
    "        for doc in docs:\n",
    "            doc.metadata[\"source\"] = file\n",
    "        all_docs.extend(docs)\n",
    "\n",
    "print(f\"Loaded {len(all_docs)} documents.\")\n",
    "\n",
    "# Split into chunks\n",
    "splitter = RecursiveCharacterTextSplitter(chunk_size=500, chunk_overlap=100)\n",
    "chunks = splitter.split_documents(all_docs)\n",
    "print(f\"Split into {len(chunks)} chunks.\")\n",
    "\n",
    "# Embed and store in ChromaDB\n",
    "embedding_model = OpenAIEmbeddings(api_key=openai_api_key)\n",
    "vectordb = Chroma.from_documents(chunks, embedding=embedding_model, persist_directory=chroma_db_dir)\n",
    "vectordb.persist()\n",
    "print(\"ChromaDB vector store created and persisted.\")\n"
   ]
  },
  {
   "cell_type": "code",
   "execution_count": 102,
   "id": "638376ca-49f0-4503-9bbc-3a1acbd44614",
   "metadata": {},
   "outputs": [],
   "source": [
    "# LLM'yi başlat\n",
    "llm = ChatOpenAI(model=\"gpt-3.5-turbo\", temperature=0, api_key=openai_api_key)"
   ]
  },
  {
   "cell_type": "code",
   "execution_count": 103,
   "id": "f1938b68-0d4e-4120-9000-5bf428091ef0",
   "metadata": {},
   "outputs": [],
   "source": [
    "# Chroma vektör veritabanı\n",
    "vectordb = Chroma(persist_directory=\"chroma_db\", embedding_function=OpenAIEmbeddings(api_key=openai_api_key))\n",
    "retriever = vectordb.as_retriever(search_kwargs={\"k\": 3})"
   ]
  },
  {
   "cell_type": "markdown",
   "id": "985110c5-4bdd-4c9b-9d69-cc2cd9216f6e",
   "metadata": {},
   "source": [
    "## Step 2: Define the LangGraph Router and Agent Nodes"
   ]
  },
  {
   "cell_type": "markdown",
   "id": "1cba0b75-9bfb-4abb-a683-1498b5a9ba22",
   "metadata": {},
   "source": [
    "Set up a LangGraph router that detects intent: \"instruction\", \"safety\", or \"escalation\"  \n",
    "    Define agent nodes that act accordingly  \n",
    "    Use the ChromaDB vector store we just created"
   ]
  },
  {
   "cell_type": "markdown",
   "id": "3d74658b-23f3-4d93-b25b-f4f0a0a52952",
   "metadata": {},
   "source": [
    "## Adım 2A: Soru Yönlendirici Fonksiyonu (Router Node)"
   ]
  },
  {
   "cell_type": "markdown",
   "id": "f68f4c27-1046-4872-b9f8-df79f7ffe3cd",
   "metadata": {},
   "source": [
    "Bu fonksiyon, gelen kullanıcı sorusunun hangi türde olduğunu belirler:  \n",
    "\"instruction\" → Talimat/İşlem (örn. “Nasıl çalıştırılır?”)  \n",
    "\"safety\" → Güvenlik/Teknik tehlike (örn. “Sızıntı olursa ne yapmalıyım?”)  \n",
    "\"escalation\" → Belirsiz ya da uzman müdahalesi gereken durumlar"
   ]
  },
  {
   "cell_type": "code",
   "execution_count": 104,
   "id": "51f6a097-296b-46dc-99bf-5a5f3af771fe",
   "metadata": {},
   "outputs": [],
   "source": [
    "def route_query(state):\n",
    "    query = state.input  # ✅ dict değil, Pydantic model\n",
    "    # Anahtar kelimeler\n",
    "    talimat_kelimeleri = [\"nasıl\", \"başlat\", \"yükle\", \"döngü\", \"çalıştır\", \"ekle\", \"boşalt\"]\n",
    "    guvenlik_kelimeleri = [\"sızıntı\", \"alarm\", \"koku\", \"tehlike\", \"dökülme\", \"acil\", \"patlama\"]\n",
    "\n",
    "    query_lower = query.lower()\n",
    "    if any(kelime in query_lower for kelime in guvenlik_kelimeleri):\n",
    "        state.agent_type = \"safety\"\n",
    "    elif any(kelime in query_lower for kelime in talimat_kelimeleri):\n",
    "        state.agent_type = \"instruction\"\n",
    "    else:\n",
    "        state.agent_type = \"escalation\"\n",
    "\n",
    "    return state  # ✅ Geriye state nesnesini döndür!\n"
   ]
  },
  {
   "cell_type": "markdown",
   "id": "53604dfd-e443-4d00-a4a9-6985b2842416",
   "metadata": {},
   "source": [
    "## Adım 2B: Ajan Düğümlerinin Tanımı"
   ]
  },
  {
   "cell_type": "markdown",
   "id": "05618362-401a-4c21-88f2-5491ce33e9d6",
   "metadata": {},
   "source": [
    "Her ajan, aşağıdakileri yapar:  \n",
    "ChromaDB’den ilgili belgeleri getirir (retriever)  \n",
    "OpenAI üzerinden yanıt oluşturur  \n",
    "Türkçe ve göreve özel bir biçimde cevap döner"
   ]
  },
  {
   "cell_type": "code",
   "execution_count": 105,
   "id": "9ce6df0c-4742-400a-b048-f235719b176c",
   "metadata": {},
   "outputs": [],
   "source": [
    "def safety_agent(state):\n",
    "    query = state.input\n",
    "\n",
    "    prompt = PromptTemplate.from_template(\n",
    "    \"\"\"Aşağıdaki içerikler sterilizatör kılavuzundan alınmıştır:\n",
    "\n",
    "    {context}\n",
    "\n",
    "    Soru: {question}\n",
    "\n",
    "    Lütfen yalnızca yukarıdaki içeriğe dayanarak Türkçe ve açık bir şekilde cevap ver.\"\"\"\n",
    "    )\n",
    "\n",
    "    chain = RetrievalQA.from_chain_type(\n",
    "    llm=llm,\n",
    "    retriever=retriever,\n",
    "    chain_type_kwargs={\"prompt\": prompt},\n",
    "    return_source_documents=False  # İsterseniz True yapabilirsiniz\n",
    "    )\n",
    "\n",
    "    result = chain.invoke(query)\n",
    "    state.output = result\n",
    "    return state\n"
   ]
  },
  {
   "cell_type": "code",
   "execution_count": 106,
   "id": "8c5506c7-ea18-4fbe-a6ed-8454d0c377dc",
   "metadata": {},
   "outputs": [],
   "source": [
    "def instruction_agent(state):\n",
    "    query = state.input\n",
    "\n",
    "    prompt = PromptTemplate.from_template(\n",
    "        \"\"\"Aşağıdaki içerikler sterilizatör kılavuzundan alınmıştır:\n",
    "\n",
    "{context}\n",
    "\n",
    "Soru: {question}\n",
    "\n",
    "Lütfen yalnızca yukarıdaki içeriğe dayanarak Türkçe ve açık bir şekilde cevap ver.\"\"\"\n",
    "    )\n",
    "\n",
    "    chain = RetrievalQA.from_chain_type(\n",
    "        llm=llm,\n",
    "        retriever=retriever,\n",
    "        chain_type_kwargs={\"prompt\": prompt},\n",
    "        return_source_documents=False\n",
    "    )\n",
    "\n",
    "    result = chain.invoke(query)\n",
    "    state.output = result\n",
    "    return state\n",
    "\n"
   ]
  },
  {
   "cell_type": "code",
   "execution_count": 107,
   "id": "f7167130-17a2-43ed-9ac1-6441ef446d4e",
   "metadata": {},
   "outputs": [],
   "source": [
    "def escalation_agent(state):\n",
    "    state.output = (\n",
    "        \"Bu soruya mevcut belgelerle kesin bir cevap veremiyorum. \"\n",
    "        \"Lütfen yetkili bir teknik uzmana danışınız veya kullanıcı kılavuzunu gözden geçiriniz.\"\n",
    "    )\n",
    "    return state\n"
   ]
  },
  {
   "cell_type": "markdown",
   "id": "f03fceb0-7f4c-4903-b76b-acd8e8b7e984",
   "metadata": {},
   "source": [
    "## Adım 2C: LangGraph Akış Grafiği Kurulumu"
   ]
  },
  {
   "cell_type": "code",
   "execution_count": 108,
   "id": "d4508de0-6177-4114-9e84-7d2115c62f69",
   "metadata": {},
   "outputs": [],
   "source": [
    "from langgraph.graph import StateGraph, END\n",
    "from pydantic import BaseModel\n",
    "\n",
    "from langchain.prompts import PromptTemplate\n",
    "from langchain.chains import RetrievalQA\n",
    "from langchain_community.vectorstores import Chroma\n",
    "from langchain_openai import ChatOpenAI, OpenAIEmbeddings"
   ]
  },
  {
   "cell_type": "code",
   "execution_count": 109,
   "id": "502be8e5-16c1-41fb-8abc-d98e2b36dc47",
   "metadata": {},
   "outputs": [],
   "source": [
    "# Pydantic veri modeli\n",
    "class ChatState(BaseModel):\n",
    "    input: str\n",
    "    agent_type: str = None\n",
    "    output: str = None"
   ]
  },
  {
   "cell_type": "code",
   "execution_count": 110,
   "id": "bbe1e664-ef79-45da-8172-c363f1f295ad",
   "metadata": {},
   "outputs": [],
   "source": [
    "# Graf Düğümü Tanımlama ve Akışı Kurma\n",
    "# Grafik nesnesini oluştur\n",
    "workflow = StateGraph(ChatState)\n",
    "\n",
    "# Düğümleri ekle\n",
    "workflow.add_node(\"router\", route_query)\n",
    "workflow.add_node(\"instruction\", instruction_agent)\n",
    "workflow.add_node(\"safety\", safety_agent)\n",
    "workflow.add_node(\"escalation\", escalation_agent)\n",
    "\n",
    "# Akışı tanımla\n",
    "workflow.set_entry_point(\"router\")\n",
    "workflow.add_conditional_edges(\n",
    "    \"router\",\n",
    "    lambda state: state.agent_type,  # ✅ Pydantic modeli olduğu için .agent_type kullanıyoruz\n",
    "    {\n",
    "        \"instruction\": \"instruction\",\n",
    "        \"safety\": \"safety\",\n",
    "        \"escalation\": \"escalation\"\n",
    "    }\n",
    ")\n",
    "\n",
    "\n",
    "\n",
    "# Ajan düğümlerinden sonra sona git\n",
    "workflow.add_edge(\"instruction\", END)\n",
    "workflow.add_edge(\"safety\", END)\n",
    "workflow.add_edge(\"escalation\", END)\n",
    "\n",
    "# Grafı derle\n",
    "app = workflow.compile()\n"
   ]
  },
  {
   "cell_type": "code",
   "execution_count": 112,
   "id": "4514e390-cf0a-49f3-8c07-aa85d1c84199",
   "metadata": {},
   "outputs": [
    {
     "name": "stdout",
     "output_type": "stream",
     "text": [
      "👉 Cevap: {'query': 'Cihazı nasıl başlatırım?', 'result': 'Cihazı başlatmak için cihazın açma anahtarını sağ yöne çevirerek açabilirsiniz. Cihaz açıldıktan sonra ekran görünecek ve MENÜ ve AYARLAR butonlarına erişebileceksiniz. Menü butonuna basarak cihazla ilgili yapılabilecek kontrolleri görebilir ve cihazı başlatabilirsiniz.'}\n"
     ]
    }
   ],
   "source": [
    "result = app.invoke({\"input\": \"Cihazı nasıl başlatırım?\"})\n",
    "print(\" Cevap:\", result[\"output\"])"
   ]
  },
  {
   "cell_type": "markdown",
   "id": "a56b7f2d-f0a7-49f1-a339-e11705c3bacc",
   "metadata": {},
   "source": [
    "## 3. Loglama Fonksiyonu"
   ]
  },
  {
   "cell_type": "code",
   "execution_count": 115,
   "id": "d92b0c93-9881-4e36-a619-349c1648de96",
   "metadata": {},
   "outputs": [],
   "source": [
    "from log_feedback import initialize_log, log_interaction\n",
    "\n",
    "initialize_log()\n",
    "\n",
    "soru = \"Cihazı nasıl başlatırım?\"\n",
    "sonuc = app.invoke({\"input\": soru})\n",
    "cevap = sonuc[\"output\"]\n",
    "ajan = sonuc[\"agent_type\"]\n",
    "\n",
    "# Simüle edilmiş kullanıcı geri bildirimi\n",
    "geri_bildirim = \"👍\"\n",
    "yorum = \"Gayet netti.\"\n",
    "\n",
    "log_interaction(soru, ajan, cevap, geri_bildirim, yorum)\n",
    "\n"
   ]
  },
  {
   "cell_type": "code",
   "execution_count": null,
   "id": "5e2f9d68-b46a-4013-b2b5-aa142d97c9f7",
   "metadata": {},
   "outputs": [],
   "source": []
  }
 ],
 "metadata": {
  "kernelspec": {
   "display_name": "Python [conda env:base] *",
   "language": "python",
   "name": "conda-base-py"
  },
  "language_info": {
   "codemirror_mode": {
    "name": "ipython",
    "version": 3
   },
   "file_extension": ".py",
   "mimetype": "text/x-python",
   "name": "python",
   "nbconvert_exporter": "python",
   "pygments_lexer": "ipython3",
   "version": "3.12.7"
  }
 },
 "nbformat": 4,
 "nbformat_minor": 5
}
